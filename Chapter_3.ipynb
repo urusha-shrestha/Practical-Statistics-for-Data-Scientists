{
  "nbformat": 4,
  "nbformat_minor": 0,
  "metadata": {
    "colab": {
      "provenance": [],
      "authorship_tag": "ABX9TyOjG7rYL19d08UQ7WPL2p7e",
      "include_colab_link": true
    },
    "kernelspec": {
      "name": "python3",
      "display_name": "Python 3"
    },
    "language_info": {
      "name": "python"
    }
  },
  "cells": [
    {
      "cell_type": "markdown",
      "metadata": {
        "id": "view-in-github",
        "colab_type": "text"
      },
      "source": [
        "<a href=\"https://colab.research.google.com/github/urusha-shrestha/Practical-Statistics-for-Data-Scientists/blob/main/Chapter_3.ipynb\" target=\"_parent\"><img src=\"https://colab.research.google.com/assets/colab-badge.svg\" alt=\"Open In Colab\"/></a>"
      ]
    },
    {
      "cell_type": "markdown",
      "source": [
        "#**Chapter 3 : Statistical Experiments and Significance Testing**"
      ],
      "metadata": {
        "id": "vfwgHIyH3aXx"
      }
    },
    {
      "cell_type": "markdown",
      "source": [
        "### A/B Testing\n",
        "\n",
        "* common tool used to compare two treatments\n",
        "* experiment with two groups to establish which of the two treatments, products or procedures is superior\n",
        "\n",
        "Randomization: the process of randomly assigning subjects to treatments\n",
        "\n",
        "Test statistic: the metric used to measure the effect of the treatment\n",
        "\n",
        "Control group: the group exposed to standard treatment (control)\n",
        "\n",
        "Treatment group: the group exposed to a specific treatment\n",
        "\n",
        "Blind study: the one in which the subjects are unaware of whether they are getting treatment A or B.\n",
        "\n",
        "* A double blind study is one in which the investigators are also unaware which subjects are getting which treatments"
      ],
      "metadata": {
        "id": "UHXDYVys3mvz"
      }
    },
    {
      "cell_type": "markdown",
      "source": [
        "### Hypothesis Testing\n",
        "\n",
        "* significance testing\n",
        "* helps you learn whether random chance might be responsible for an observed effect\n",
        "* helps us manage the human tendency to incorrectly understand, interpret, and predict natural random behavior\n",
        "* generally, we want to prove that the null hypothesis is wrong\n",
        "* assumes that the null hypothesis is true, creates a model and tests whether the effect you observe is a reasonable outcome of that model\n",
        "\n",
        "Null Hypothesis:\n",
        "\n",
        "* says that a treatment will cause no difference\n",
        "* previously accepted hypothesis\n",
        "* a baseline assumption that the treatments are equivalent and any difference between the groups is due to chance\n",
        "\n",
        "Alternative Hypothesis:\n",
        "\n",
        "* says that the difference cause by the treatment is significant\n",
        "\n",
        "One way test/ one tail test:\n",
        "\n",
        "* hypothesis test that counts chance results in one direction\n",
        "* the region of rejection (of null hypothesis)(critical area) is on only one side of the sampling distribution\n",
        "* used when a researcher is interested in determining whether a parameter is either greater than or less than a certain value, but not both\n",
        "\n",
        "Two way test/ two tail test:\n",
        "\n",
        "* hypothesis test that counts chance results in two direction\n",
        "* the region of rejection of null hypothesis (critical area) is located on both tails of the probability distribution\n",
        "* used when a researcher wants to test for the possibility of an effect is significantly different, not just an increase or decrease\n",
        "\n",
        "Critical value:\n",
        "\n",
        "* point on the scale of the test statistic beyond which we reject the null hypothesis\n",
        "\n",
        "\n",
        "\n",
        "\n"
      ],
      "metadata": {
        "id": "LkEE9rpI77qu"
      }
    },
    {
      "cell_type": "markdown",
      "source": [
        "### Resampling\n",
        "\n",
        "* process of repeatedly taking sample values from observed data to assess variability in a statistic\n",
        "* two main types:\n",
        "  * Bootstrapping:\n",
        "    * tests the reliability of an estimate\n",
        "    * values are selected with replacement\n",
        "  * Permutation Tests:\n",
        "    * used to test hypothesis\n",
        "    * the procedure of combining two or more samples together and randomly draw samples with sizes equivalent to the original group size\n",
        "    * two types:\n",
        "      * Exhaustive/ Exact Permutation Test:\n",
        "       \n",
        "        -> creates permutations of every possible combination\n",
        "       \n",
        "        -> only possible with small samples\n",
        "      * Bootstrap Permutation Test:\n",
        "\n",
        "        -> the draws are done with replacement"
      ],
      "metadata": {
        "id": "6hLXGpb9AAN_"
      }
    },
    {
      "cell_type": "markdown",
      "source": [
        "### Statistical Significance and p-Values\n",
        "\n",
        "* results greater than the realm of chance variation are considered Statistically Significant\n",
        "\n",
        "Statistical Significance:\n",
        "\n",
        "* how statisticians measure whether an experiment yields a result more xtreme than what chance might produce\n",
        "* if the result is beyond extreme, it is said to be statistically significant\n",
        "\n",
        "p-value:\n",
        "\n",
        "* the probability of obtaining a result as unusual or extreme as the observed results\n",
        "\n",
        "alpha:\n",
        "\n",
        "* the probability threshold that chance results must surpass for actual outcomes to be deemed statistically significant\n",
        "\n",
        "Type 1 Error:\n",
        "\n",
        "* Mistakenly concluding an effect is real (when it is due to chance)\n",
        "* mistakenly concluding that an effect is statistically significant\n",
        "* False positive\n",
        "* Incorrectly rejecting the null hypothesis\n",
        "* probability of making a type 1 error is denoted by alpha (significance level)\n",
        "* example: concluding a drug is affective when it actually isnt\n",
        "\n",
        "Type 2 Error:\n",
        "\n",
        "* mistakenly concluding that an effect is due to chance (when it is real)\n",
        "* false negative\n",
        "* failing to reject the null hypothesis\n",
        "* probability of making a type 2 error is denoted by beta\n",
        "* example: conclusing a drug is not affective when it actually is\n",
        "\n",
        "Power of a test:\n",
        "\n",
        "* 1-beta\n",
        "* the probability of correctly rejecting a false null hypothesis\n",
        "* a test with high power is less likely to make a type 2 error\n",
        "\n"
      ],
      "metadata": {
        "id": "FK2nGMVeDrYc"
      }
    },
    {
      "cell_type": "markdown",
      "source": [
        "### t-Tests\n",
        "\n",
        "* was named after the student's t distribution\n",
        "* used to determine if there is a significant difference between the means of two groups"
      ],
      "metadata": {
        "id": "1Giy32gjJphl"
      }
    },
    {
      "cell_type": "markdown",
      "source": [
        "### Multiple Testing\n",
        "\n",
        "False discovery rate: across multiple tests, the rate of making an Type 1 error.\n",
        "\n",
        "Alpha inflation: the multiple testing phenomenon, in which alpha, the rate of making a Type 1 error (incorrectly rejecting the null hypothesis), increases as you conduct more tests."
      ],
      "metadata": {
        "id": "v9WEmr9xL9hs"
      }
    },
    {
      "cell_type": "markdown",
      "source": [
        "### ANOVA (Analysis of Variance)\n",
        "\n",
        "* the statistical procedure that tests for a statistically significant difference among the groups\n",
        "\n",
        "Pairwise Comparision: a hypothetical test between two groups amoung multiple groups\n",
        "\n",
        "Omnibus Test: a single hypothesis test of the overall variance among multiple group means\n",
        "\n",
        "Decomposition of Variance: separation of components contributing to an individual value\n",
        "\n",
        "F-statistic:\n",
        "\n",
        "* the extent to which differences among group means are greater\n",
        "* based on the ratio of variance across group means to the variance due to residual error\n",
        "* the higher this ratio, the more statistically significant the result"
      ],
      "metadata": {
        "id": "eAgocOdaOlrF"
      }
    },
    {
      "cell_type": "markdown",
      "source": [
        "Note: t-statistic is for permutation testing, while f-statistic is for ANOVA.\n",
        "The t-statistic tells us if there is a significant difference between a statistic of two groups, while the f-statistic tells us if a group of variables are significant together."
      ],
      "metadata": {
        "id": "C9VhaecZRQUi"
      }
    },
    {
      "cell_type": "markdown",
      "source": [
        "### Chi-Square test\n",
        "\n",
        "* while ANOVA testing determines if the means between two variables are significantly different, chi-square testing determines if some data fits an expected distribution.\n",
        "* used with count data\n",
        "\n",
        "Chi-square statistic:\n",
        "\n",
        "* a measure of the extent to which some observed data departs from expectation\n",
        "* the sum of all squared residuals"
      ],
      "metadata": {
        "id": "txvFOu8QRgoC"
      }
    },
    {
      "cell_type": "markdown",
      "source": [
        "### Multi-Arm Bandit Algorithm\n",
        "\n",
        "* allows you to test multiple treatments at once and reach conclusions faster than traditional statistical designs\n",
        "* allows us to pick the most effective treatment from a number of treatments while testing other treatments in order to allow gain more information"
      ],
      "metadata": {
        "id": "cjX33Wn_So6K"
      }
    },
    {
      "cell_type": "markdown",
      "source": [
        "### Power and Sample Size\n",
        "\n",
        "Effect Size: the minimum size of the effect that you hope to be able to detect in a statistical test\n",
        "\n",
        "Power: the probability of detecting a given effect size with a given sample size\n",
        "\n",
        "* Power curve can also be used to determine the sample size"
      ],
      "metadata": {
        "id": "VmaZk9dJTTOp"
      }
    }
  ]
}