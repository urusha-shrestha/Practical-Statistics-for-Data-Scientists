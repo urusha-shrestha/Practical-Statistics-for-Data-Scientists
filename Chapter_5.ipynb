{
  "nbformat": 4,
  "nbformat_minor": 0,
  "metadata": {
    "colab": {
      "provenance": [],
      "authorship_tag": "ABX9TyNZOsp9pzjo/BJfyKn5MuPn",
      "include_colab_link": true
    },
    "kernelspec": {
      "name": "python3",
      "display_name": "Python 3"
    },
    "language_info": {
      "name": "python"
    }
  },
  "cells": [
    {
      "cell_type": "markdown",
      "metadata": {
        "id": "view-in-github",
        "colab_type": "text"
      },
      "source": [
        "<a href=\"https://colab.research.google.com/github/urusha-shrestha/Practical-Statistics-for-Data-Scientists/blob/main/Chapter_5.ipynb\" target=\"_parent\"><img src=\"https://colab.research.google.com/assets/colab-badge.svg\" alt=\"Open In Colab\"/></a>"
      ]
    },
    {
      "cell_type": "markdown",
      "source": [
        "# **Chapter 5 : Classification**"
      ],
      "metadata": {
        "id": "ZEv25x_Oa-9Z"
      }
    },
    {
      "cell_type": "markdown",
      "source": [
        "### Classification:\n",
        "\n",
        "the goal is to predict whether a record is a 1 or a 0, or in some cases, one of several categories"
      ],
      "metadata": {
        "id": "SH2tGRi9bkOX"
      }
    },
    {
      "cell_type": "markdown",
      "source": [
        "### Naive Bayes\n",
        "\n",
        "* uses the probability of predictor values, to estimate the probability of observing outcome\n",
        "\n",
        "Conditional probability: the probability of observing some event given some other event\n",
        "\n",
        "Posterior probability: the probability of an outcome after the predictor information has been incorporated\n",
        "\n",
        "* predictor values must be categorical variables in the standard naive bayes algorithm\n",
        "\n",
        "* to apply naive bayes to numerical predictors, either bin and convert the numerical predictors to categorical predictors or use a probability model to estimate the conditional probability\n",
        "\n",
        "* the exact bayesian classification approach finds all the records in the sample that are exactly like the new record to be classified in the sense that all the predictor values are identical\n",
        "\n",
        "* the exact bayesian classification is impractical because when the number of predictor variables exceeds a handful, many of the records to classified will be without exact match\n",
        "\n",
        "* in naive bayes solution, the probability calculation is not restricted to those record that match the record to be classified, instead the whole data set is used\n",
        "\n",
        "* calculates the probability of each class given the data point (posterior probability) and classifies the data point based on the class with the highest probability\n",
        "\n",
        "* the naive bayes classifier is known to produce biased estimates\n",
        "\n",
        "\n"
      ],
      "metadata": {
        "id": "KdHDf8ClcAN4"
      }
    },
    {
      "cell_type": "markdown",
      "source": [
        "## Discriminant Analysis\n",
        "\n",
        "* earliest statistical classifier\n",
        "\n",
        "Covariance\n",
        "\n",
        "* the measure of extent to which one variable varies in relation to another (similar magnitude and direction)\n",
        "* statistical measure that indicate the extent to which two variables change together\n",
        "* correlation is constrained between -1 and 1, covariance scale depends on the scale of the variables\n",
        "\n",
        "Discriminant function\n",
        "\n",
        "* the function that when applied to the predictor variables, maximizes the separation of classes\n",
        "\n",
        "Discriminant weights\n",
        "\n",
        "* the scores that result from the application of the discriminant function and are used to estimate probabilities of belonging to one class or another\n",
        "\n",
        "* assumes that the predictor variables are normally distributed continuous variables\n",
        "\n",
        "Fisher's Linear Discriminant:\n",
        "\n",
        "* distinguishes variation between groups, from variation within groups\n",
        "\n",
        "* Linear Discriminant Analysis seeks to divide the record into two groups and focuses on maximizing the between sum of sqaures relative to the within sum of squares\n",
        "\n",
        "(between sum of squares is the squared distance between the two group means, within sum of squares is the spread around the means with in each group)\n",
        "\n",
        "* by maximizing the between sum of squares and minimizing the within sum of squared, the LDA yields the geatest separation between the two groups"
      ],
      "metadata": {
        "id": "lzw1mRJNfxPR"
      }
    },
    {
      "cell_type": "code",
      "execution_count": null,
      "metadata": {
        "id": "Y1uro1Pbhqzr"
      },
      "outputs": [],
      "source": []
    }
  ]
}